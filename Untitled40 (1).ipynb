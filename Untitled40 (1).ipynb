{
 "cells": [
  {
   "cell_type": "code",
   "execution_count": null,
   "id": "feb3cb6d-303e-4350-9d86-37b496b7e6e1",
   "metadata": {},
   "outputs": [
    {
     "name": "stdout",
     "output_type": "stream",
     "text": [
      "Welcome to the Quiz Game!\n",
      "You have 10 seconds to answer each question.\n",
      "\n",
      "Question 1: What is the capital of France?\n",
      "A. Berlin\n",
      "B. Paris\n",
      "C. Rome\n",
      "D. Madrid\n"
     ]
    }
   ],
   "source": [
    "import time\n",
    "\n",
    "quiz = [\n",
    "    {\n",
    "        \"question\": \"What is the capital of France?\",\n",
    "        \"options\": [\"A. Berlin\", \"B. Paris\", \"C. Rome\", \"D. Madrid\"],\n",
    "        \"answer\": \"B\"\n",
    "    },\n",
    "    {\n",
    "        \"question\": \"What is 5 + 7?\",\n",
    "        \"options\": [\"A. 10\", \"B. 11\", \"C. 12\", \"D. 13\"],\n",
    "        \"answer\": \"C\"\n",
    "    }\n",
    "]\n",
    "\n",
    "score = 0\n",
    "print(\"Welcome to the Quiz Game!\\nYou have 10 seconds to answer each question.\\n\")\n",
    "\n",
    "for i, q in enumerate(quiz):\n",
    "    print(f\"Question {i+1}: {q['question']}\")\n",
    "    for opt in q['options']:\n",
    "        print(opt)\n",
    "    \n",
    "    start = time.time()\n",
    "    answer = input(\"Your answer (A/B/C/D): \").strip().upper()\n",
    "    end = time.time()\n",
    "    \n",
    "    if end - start > 10:\n",
    "        print(\"Time's up!\\n\")\n",
    "    elif answer == q['answer']:\n",
    "        print(\"Correct!\\n\")\n",
    "        score += 1\n",
    "    else:\n",
    "        print(f\"Wrong! The correct answer was {q['answer']}.\\n\")\n",
    "\n",
    "print(f\"Final Score: {score}/{len(quiz)}\")"
   ]
  },
  {
   "cell_type": "code",
   "execution_count": null,
   "id": "f483f5e8-43aa-41e6-9660-1af011fb8547",
   "metadata": {},
   "outputs": [],
   "source": []
  }
 ],
 "metadata": {
  "kernelspec": {
   "display_name": "Python 3 (ipykernel)",
   "language": "python",
   "name": "python3"
  },
  "language_info": {
   "codemirror_mode": {
    "name": "ipython",
    "version": 3
   },
   "file_extension": ".py",
   "mimetype": "text/x-python",
   "name": "python",
   "nbconvert_exporter": "python",
   "pygments_lexer": "ipython3",
   "version": "3.12.4"
  }
 },
 "nbformat": 4,
 "nbformat_minor": 5
}
